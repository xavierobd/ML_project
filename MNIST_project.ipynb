{
 "cells": [
  {
   "cell_type": "markdown",
   "metadata": {},
   "source": [
    "## Problem 1 ##"
   ]
  },
  {
   "cell_type": "code",
   "execution_count": 14,
   "metadata": {},
   "outputs": [],
   "source": [
    "import numpy as np\n",
    "import matplotlib.pyplot as plt\n",
    "import pandas as pd\n",
    "import tensorflow as tf\n",
    "import matplotlib.pyplot as plt"
   ]
  },
  {
   "cell_type": "code",
   "execution_count": 15,
   "metadata": {},
   "outputs": [],
   "source": [
    "#Transforms regular matrix into probability matrix\n",
    "def softmax(u):\n",
    "    expu = np.exp(u)\n",
    "    #print(expu)\n",
    "    return expu/np.sum(expu)\n",
    "\n",
    "#The difference between two probabilities\n",
    "def multi_loss(p, q):\n",
    "    return -sum(p*np.log(q))\n",
    "\n",
    "#Gradient descent\n",
    "def multilogreg_gradientdescent(x, y, alpha):\n",
    "    N, d = x.shape\n",
    "    x = np.insert(x, 0, 1, axis  = 1)\n",
    "    k = y.shape[1]\n",
    "    beta = np.zeros((k, d + 1))\n",
    "    Lvals = []\n",
    "    for i in range(200):\n",
    "        L = multi_objective(x, y, beta)\n",
    "        Lvals.append(L)\n",
    "        \n",
    "        for i in range(len(x)):\n",
    "            xihat = x[i]\n",
    "            yi = y[i]\n",
    "            qi = softmax(beta@xihat.T)\n",
    "            gradient = np.outer(qi - yi, xihat)\n",
    "            beta = beta - alpha*gradient\n",
    "    return beta, Lvals\n",
    "\n",
    "#Objective function\n",
    "def multi_objective(x, y, beta): #make edits\n",
    "    L = 0\n",
    "    for i in range(len(x)):\n",
    "        xihat = x[i]\n",
    "        yi = y[i]\n",
    "        qi = softmax(beta@xihat)\n",
    "        L += multi_loss(yi, qi)\n",
    "    \n",
    "    return L\n",
    "\n",
    "#Prediction function\n",
    "def predict(x,beta):\n",
    "    x = np.insert(x,0,1, axis = 1)\n",
    "    N = x.shape[0]\n",
    "    predictions = []\n",
    "    \n",
    "    for i in range(N):\n",
    "        xihat = x[i]\n",
    "        qi = softmax(beta@xihat)\n",
    "        k = np.argmax(qi)\n",
    "        predictions.append(k)\n",
    "    return predictions"
   ]
  },
  {
   "cell_type": "markdown",
   "metadata": {},
   "source": [
    "## Problem 2 ##"
   ]
  },
  {
   "cell_type": "code",
   "execution_count": 16,
   "metadata": {},
   "outputs": [],
   "source": [
    "#retrieving the data for x and y, for the training and testing sets\n",
    "(x_train, y_train), (x_test, y_test) = tf.keras.datasets.mnist.load_data() "
   ]
  },
  {
   "cell_type": "code",
   "execution_count": 17,
   "metadata": {},
   "outputs": [],
   "source": [
    "x_train = x_train/255\n",
    "x_test = x_test/255\n",
    "N_train, nrows, ncols = x_train.shape\n",
    "N_test = x_test.shape[0]\n",
    "x_train = np.reshape(x_train,(N_train,nrows*ncols))\n",
    "x_test = np.reshape(x_test,(N_test,nrows*ncols))\n",
    "\n",
    "y_train = pd.get_dummies(y_train).values"
   ]
  },
  {
   "cell_type": "code",
   "execution_count": 18,
   "metadata": {},
   "outputs": [],
   "source": [
    "#Objective function\n",
    "def eval_L(x,y,beta):\n",
    "    L = 0\n",
    "    for i in range(len(x)):\n",
    "        xihat = x[i]\n",
    "        yi = y[i]\n",
    "        qi = softmax(beta@xihat)\n",
    "        L += multi_loss(yi, qi)\n",
    "    \n",
    "    return L\n",
    "        \n",
    "#Computes stochastic gradient descent\n",
    "def logreg_SGD(x, y, alpha):\n",
    "    nepochs = 5 #number of epochs\n",
    "    batch_size = 16 #batch size\n",
    "    N, d = x.shape #dimensions of X\n",
    "    x = np.insert(x, 0, 1, axis  = 1)\n",
    "    k = y.shape[1] #number of classes\n",
    "    beta = np.zeros((k, d + 1))\n",
    "    Lvals = []\n",
    "    \n",
    "    for ep in range(nepochs): #the amount of times it sweeps through the data\n",
    "        L = eval_L(x,y,beta)\n",
    "        Lvals.append(L)\n",
    "        print(\"Epoch is: \" + str(ep) + \" Cost is: \" + str(L)) #The L values after each sweep, should be decreasing\n",
    "        \n",
    "        prm = np.random.permutation(N) #To randomly grab numbers in the dataset, essential for stochastic (random) GD\n",
    "        batch_index = 0\n",
    "        for start_i in range(0,N, batch_size):\n",
    "            stop_i = start_i + batch_size\n",
    "            stop_i = min(stop_i, N)\n",
    "            num_examples_batch = stop_i - start_i\n",
    "            \n",
    "            for i in prm[start_i:stop_i]: \n",
    "                xihat = x[i]\n",
    "                yi = y[i]\n",
    "                qi = softmax(beta@xihat) #using matrix multiplication on beta against the augmented matrix x and\n",
    "                                         #transforming the matrix into a probability matrix\n",
    "                grad_i = np.outer(qi - yi, xihat) #calculating the Gradient\n",
    "                grad_i = grad_i/num_examples_batch\n",
    "                beta = beta - alpha*grad_i #continuously updating beta\n",
    "    \n",
    "    return beta, Lvals\n",
    "            \n",
    "#This function predict takes the values generated by qi, the predicted values, and places them in a matrix\n",
    "def predict(x,beta):\n",
    "    x = np.insert(x,0,1, axis = 1)\n",
    "    N = x.shape[0]\n",
    "    predictions = []\n",
    "    probability = []\n",
    "    \n",
    "    for i in range(N):\n",
    "        xihat = x[i]\n",
    "        qi = softmax(beta@xihat)\n",
    "        k = np.argmax(qi)\n",
    "        predictions.append(k)\n",
    "        probability.append(np.max(qi))\n",
    "        \n",
    "    return predictions, probability"
   ]
  },
  {
   "cell_type": "code",
   "execution_count": 19,
   "metadata": {
    "scrolled": true
   },
   "outputs": [
    {
     "name": "stdout",
     "output_type": "stream",
     "text": [
      "Epoch is: 0 Cost is: 138155.10557972503\n",
      "Epoch is: 1 Cost is: 25123.584591588966\n",
      "Epoch is: 2 Cost is: 21899.888875300105\n",
      "Epoch is: 3 Cost is: 20497.05888215431\n",
      "Epoch is: 4 Cost is: 19659.749954533345\n"
     ]
    },
    {
     "data": {
      "text/plain": [
       "Text(0.5, 1.0, 'Multiclass Logistic Regression Using Stochastic Gradient Descent on MNIST Dataset')"
      ]
     },
     "execution_count": 19,
     "metadata": {},
     "output_type": "execute_result"
    },
    {
     "data": {
      "image/png": "[encoded data removed]",
      "text/plain": [
       "<Figure size 432x288 with 1 Axes>"
      ]
     },
     "metadata": {
      "needs_background": "light"
     },
     "output_type": "display_data"
    }
   ],
   "source": [
    "#Running my functions up above and graphing my results\n",
    "alpha = .01\n",
    "beta, Lvals = logreg_SGD(x_train, y_train, alpha)\n",
    "plt.semilogy(Lvals)\n",
    "plt.xlabel(\"Epochs\")\n",
    "plt.ylabel(\"Logistic Regression Values\")\n",
    "plt.title(\"Multiclass Logistic Regression Using Stochastic Gradient Descent on MNIST Dataset\")\n"
   ]
  },
  {
   "cell_type": "code",
   "execution_count": 7,
   "metadata": {},
   "outputs": [
    {
     "name": "stdout",
     "output_type": "stream",
     "text": [
      "Accuracy: 0.9153\n"
     ]
    }
   ],
   "source": [
    "#Calculating the Accuracy by comparing the predicted values against the actual data using the test dataset\n",
    "predictions, probability = predict(x_test, beta)\n",
    "correct = 0\n",
    "for i in range(len(predictions)):\n",
    "    if predictions[i] == y_test[i]:\n",
    "        correct +=1\n",
    "        \n",
    "print(\"Accuracy: \" + str(correct/len(predictions)))"
   ]
  },
  {
   "cell_type": "markdown",
   "metadata": {},
   "source": [
    "## Examples When Classifier is Confused ##"
   ]
  },
  {
   "cell_type": "code",
   "execution_count": 8,
   "metadata": {},
   "outputs": [],
   "source": [
    "agreement = predictions == y_test\n",
    "sortindex = np.argsort(probability)\n",
    "sortindex = sortindex[::-1]\n",
    "probability = np.array(probability)\n",
    "diffy = []\n",
    "for i in sortindex:\n",
    "    if agreement[i] == False:\n",
    "        diffy.append(i)"
   ]
  },
  {
   "cell_type": "code",
   "execution_count": 10,
   "metadata": {
    "scrolled": true
   },
   "outputs": [
    {
     "name": "stdout",
     "output_type": "stream",
     "text": [
      "There was 0.8294387385049595 accuracy. The code predicted a 6. The correct hand written number is 1.\n"
     ]
    },
    {
     "data": {
      "image/png": "[encoded data removed]",
      "text/plain": [
       "<Figure size 432x288 with 1 Axes>"
      ]
     },
     "metadata": {
      "needs_background": "light"
     },
     "output_type": "display_data"
    }
   ],
   "source": [
    "i = diffy[100]\n",
    "xi = np.reshape(x_test[i], (28,28))\n",
    "plt.imshow(xi)\n",
    "print(\"There was \" + str(probability[i]) + \" accuracy. The code predicted a \" + str(predictions[i]) + \". The correct hand written number is \" + str(y_test[i]) + \".\")"
   ]
  },
  {
   "cell_type": "code",
   "execution_count": 11,
   "metadata": {
    "scrolled": true
   },
   "outputs": [
    {
     "name": "stdout",
     "output_type": "stream",
     "text": [
      "There was 0.9440863646330888 accuracy. The code predicted a 2. The correct hand written number is 7.\n"
     ]
    },
    {
     "data": {
      "image/png": "[encoded data removed]",
      "text/plain": [
       "<Figure size 432x288 with 1 Axes>"
      ]
     },
     "metadata": {
      "needs_background": "light"
     },
     "output_type": "display_data"
    }
   ],
   "source": [
    "i = diffy[26]\n",
    "xi = np.reshape(x_test[i], (28,28))\n",
    "plt.imshow(xi)\n",
    "print(\"There was \" + str(probability[i]) + \" accuracy. The code predicted a \" + str(predictions[i]) + \". The correct hand written number is \" + str(y_test[i]) + \".\")"
   ]
  },
  {
   "cell_type": "code",
   "execution_count": 12,
   "metadata": {},
   "outputs": [
    {
     "name": "stdout",
     "output_type": "stream",
     "text": [
      "There was 0.93688506896836 accuracy. The code predicted a 7. The correct hand written number is 5.\n"
     ]
    },
    {
     "data": {
      "image/png": "[encoded data removed]",
      "text/plain": [
       "<Figure size 432x288 with 1 Axes>"
      ]
     },
     "metadata": {
      "needs_background": "light"
     },
     "output_type": "display_data"
    }
   ],
   "source": [
    "i = diffy[31]\n",
    "xi = np.reshape(x_test[i], (28,28))\n",
    "plt.imshow(xi)\n",
    "print(\"There was \" + str(probability[i]) + \" accuracy. The code predicted a \" + str(predictions[i]) + \". The correct hand written number is \" + str(y_test[i]) + \".\")"
   ]
  }
 ],
 "metadata": {
  "kernelspec": {
   "display_name": "Python 3",
   "language": "python",
   "name": "python3"
  },
  "language_info": {
   "codemirror_mode": {
    "name": "ipython",
    "version": 3
   },
   "file_extension": ".py",
   "mimetype": "text/x-python",
   "name": "python",
   "nbconvert_exporter": "python",
   "pygments_lexer": "ipython3",
   "version": "3.7.6"
  }
 },
 "nbformat": 4,
 "nbformat_minor": 4
}
